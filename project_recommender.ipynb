{
 "cells": [
  {
   "cell_type": "markdown",
   "metadata": {},
   "source": [
    "# Project Recommendation System\n",
    "\n",
    "This notebook implements a recommendation system for Lovable projects using:\n",
    "1. Semantic search with FAISS to find similar projects\n",
    "2. ML-based ranking to prioritize projects based on engagement metrics\n",
    "3. Cold-start recommendation strategy for new projects\n",
    "\n",
    "Let's get started!"
   ]
  },
  {
   "cell_type": "markdown",
   "metadata": {},
   "source": [
    "## 1. Setup and Data Loading"
   ]
  },
  {
   "cell_type": "markdown",
   "metadata": {},
   "source": [
    "### Memory Management\n",
    "\n",
    "This notebook involves working with vector embeddings and machine learning models that can use significant memory. We'll use Python's garbage collector (`gc`) at key points to free up memory and prevent kernel crashes."
   ]
  },
  {
   "cell_type": "code",
   "execution_count": 1,
   "metadata": {},
   "outputs": [
    {
     "name": "stdout",
     "output_type": "stream",
     "text": [
      "Requirement already satisfied: faiss-cpu in /Users/spuliz/.pyenv/versions/3.9.17/lib/python3.9/site-packages (1.11.0)\n",
      "Requirement already satisfied: numpy in /Users/spuliz/.pyenv/versions/3.9.17/lib/python3.9/site-packages (1.25.1)\n",
      "Requirement already satisfied: pandas in /Users/spuliz/.pyenv/versions/3.9.17/lib/python3.9/site-packages (2.0.3)\n",
      "Requirement already satisfied: scikit-learn in /Users/spuliz/.pyenv/versions/3.9.17/lib/python3.9/site-packages (1.5.1)\n",
      "Requirement already satisfied: sentence-transformers in /Users/spuliz/.pyenv/versions/3.9.17/lib/python3.9/site-packages (3.4.1)\n",
      "Requirement already satisfied: lightgbm in /Users/spuliz/.pyenv/versions/3.9.17/lib/python3.9/site-packages (4.6.0)\n",
      "Requirement already satisfied: matplotlib in /Users/spuliz/.pyenv/versions/3.9.17/lib/python3.9/site-packages (3.7.2)\n",
      "Requirement already satisfied: packaging in /Users/spuliz/.pyenv/versions/3.9.17/lib/python3.9/site-packages (from faiss-cpu) (23.1)\n",
      "Requirement already satisfied: python-dateutil>=2.8.2 in /Users/spuliz/.pyenv/versions/3.9.17/lib/python3.9/site-packages (from pandas) (2.8.2)\n",
      "Requirement already satisfied: pytz>=2020.1 in /Users/spuliz/.pyenv/versions/3.9.17/lib/python3.9/site-packages (from pandas) (2023.3)\n",
      "Requirement already satisfied: tzdata>=2022.1 in /Users/spuliz/.pyenv/versions/3.9.17/lib/python3.9/site-packages (from pandas) (2023.3)\n",
      "Requirement already satisfied: scipy>=1.6.0 in /Users/spuliz/.pyenv/versions/3.9.17/lib/python3.9/site-packages (from scikit-learn) (1.13.1)\n",
      "Requirement already satisfied: joblib>=1.2.0 in /Users/spuliz/.pyenv/versions/3.9.17/lib/python3.9/site-packages (from scikit-learn) (1.4.2)\n",
      "Requirement already satisfied: threadpoolctl>=3.1.0 in /Users/spuliz/.pyenv/versions/3.9.17/lib/python3.9/site-packages (from scikit-learn) (3.5.0)\n",
      "Requirement already satisfied: transformers<5.0.0,>=4.41.0 in /Users/spuliz/.pyenv/versions/3.9.17/lib/python3.9/site-packages (from sentence-transformers) (4.48.1)\n",
      "Requirement already satisfied: tqdm in /Users/spuliz/.pyenv/versions/3.9.17/lib/python3.9/site-packages (from sentence-transformers) (4.67.1)\n",
      "Requirement already satisfied: torch>=1.11.0 in /Users/spuliz/.pyenv/versions/3.9.17/lib/python3.9/site-packages (from sentence-transformers) (2.6.0)\n",
      "Requirement already satisfied: huggingface-hub>=0.20.0 in /Users/spuliz/.pyenv/versions/3.9.17/lib/python3.9/site-packages (from sentence-transformers) (0.27.1)\n",
      "Requirement already satisfied: Pillow in /Users/spuliz/.pyenv/versions/3.9.17/lib/python3.9/site-packages (from sentence-transformers) (10.0.0)\n",
      "Requirement already satisfied: contourpy>=1.0.1 in /Users/spuliz/.pyenv/versions/3.9.17/lib/python3.9/site-packages (from matplotlib) (1.1.0)\n",
      "Requirement already satisfied: cycler>=0.10 in /Users/spuliz/.pyenv/versions/3.9.17/lib/python3.9/site-packages (from matplotlib) (0.11.0)\n",
      "Requirement already satisfied: fonttools>=4.22.0 in /Users/spuliz/.pyenv/versions/3.9.17/lib/python3.9/site-packages (from matplotlib) (4.41.1)\n",
      "Requirement already satisfied: kiwisolver>=1.0.1 in /Users/spuliz/.pyenv/versions/3.9.17/lib/python3.9/site-packages (from matplotlib) (1.4.4)\n",
      "Requirement already satisfied: pyparsing<3.1,>=2.3.1 in /Users/spuliz/.pyenv/versions/3.9.17/lib/python3.9/site-packages (from matplotlib) (3.0.9)\n",
      "Requirement already satisfied: importlib-resources>=3.2.0 in /Users/spuliz/.pyenv/versions/3.9.17/lib/python3.9/site-packages (from matplotlib) (6.0.0)\n",
      "Requirement already satisfied: filelock in /Users/spuliz/.pyenv/versions/3.9.17/lib/python3.9/site-packages (from huggingface-hub>=0.20.0->sentence-transformers) (3.16.1)\n",
      "Requirement already satisfied: fsspec>=2023.5.0 in /Users/spuliz/.pyenv/versions/3.9.17/lib/python3.9/site-packages (from huggingface-hub>=0.20.0->sentence-transformers) (2024.9.0)\n",
      "Requirement already satisfied: pyyaml>=5.1 in /Users/spuliz/.pyenv/versions/3.9.17/lib/python3.9/site-packages (from huggingface-hub>=0.20.0->sentence-transformers) (6.0.2)\n",
      "Requirement already satisfied: requests in /Users/spuliz/.pyenv/versions/3.9.17/lib/python3.9/site-packages (from huggingface-hub>=0.20.0->sentence-transformers) (2.31.0)\n",
      "Requirement already satisfied: typing-extensions>=3.7.4.3 in /Users/spuliz/.pyenv/versions/3.9.17/lib/python3.9/site-packages (from huggingface-hub>=0.20.0->sentence-transformers) (4.12.2)\n",
      "Requirement already satisfied: zipp>=3.1.0 in /Users/spuliz/.pyenv/versions/3.9.17/lib/python3.9/site-packages (from importlib-resources>=3.2.0->matplotlib) (3.16.2)\n",
      "Requirement already satisfied: six>=1.5 in /Users/spuliz/.pyenv/versions/3.9.17/lib/python3.9/site-packages (from python-dateutil>=2.8.2->pandas) (1.16.0)\n",
      "Requirement already satisfied: networkx in /Users/spuliz/.pyenv/versions/3.9.17/lib/python3.9/site-packages (from torch>=1.11.0->sentence-transformers) (3.2.1)\n",
      "Requirement already satisfied: jinja2 in /Users/spuliz/.pyenv/versions/3.9.17/lib/python3.9/site-packages (from torch>=1.11.0->sentence-transformers) (3.1.4)\n",
      "Requirement already satisfied: sympy==1.13.1 in /Users/spuliz/.pyenv/versions/3.9.17/lib/python3.9/site-packages (from torch>=1.11.0->sentence-transformers) (1.13.1)\n",
      "Requirement already satisfied: mpmath<1.4,>=1.1.0 in /Users/spuliz/.pyenv/versions/3.9.17/lib/python3.9/site-packages (from sympy==1.13.1->torch>=1.11.0->sentence-transformers) (1.3.0)\n",
      "Requirement already satisfied: regex!=2019.12.17 in /Users/spuliz/.pyenv/versions/3.9.17/lib/python3.9/site-packages (from transformers<5.0.0,>=4.41.0->sentence-transformers) (2024.11.6)\n",
      "Requirement already satisfied: tokenizers<0.22,>=0.21 in /Users/spuliz/.pyenv/versions/3.9.17/lib/python3.9/site-packages (from transformers<5.0.0,>=4.41.0->sentence-transformers) (0.21.0)\n",
      "Requirement already satisfied: safetensors>=0.4.1 in /Users/spuliz/.pyenv/versions/3.9.17/lib/python3.9/site-packages (from transformers<5.0.0,>=4.41.0->sentence-transformers) (0.5.2)\n",
      "Requirement already satisfied: MarkupSafe>=2.0 in /Users/spuliz/.pyenv/versions/3.9.17/lib/python3.9/site-packages (from jinja2->torch>=1.11.0->sentence-transformers) (2.1.5)\n",
      "Requirement already satisfied: charset-normalizer<4,>=2 in /Users/spuliz/.pyenv/versions/3.9.17/lib/python3.9/site-packages (from requests->huggingface-hub>=0.20.0->sentence-transformers) (2.1.1)\n",
      "Requirement already satisfied: idna<4,>=2.5 in /Users/spuliz/.pyenv/versions/3.9.17/lib/python3.9/site-packages (from requests->huggingface-hub>=0.20.0->sentence-transformers) (3.4)\n",
      "Requirement already satisfied: urllib3<3,>=1.21.1 in /Users/spuliz/.pyenv/versions/3.9.17/lib/python3.9/site-packages (from requests->huggingface-hub>=0.20.0->sentence-transformers) (1.26.19)\n",
      "Requirement already satisfied: certifi>=2017.4.17 in /Users/spuliz/.pyenv/versions/3.9.17/lib/python3.9/site-packages (from requests->huggingface-hub>=0.20.0->sentence-transformers) (2023.5.7)\n",
      "\n",
      "\u001b[1m[\u001b[0m\u001b[34;49mnotice\u001b[0m\u001b[1;39;49m]\u001b[0m\u001b[39;49m A new release of pip is available: \u001b[0m\u001b[31;49m23.2\u001b[0m\u001b[39;49m -> \u001b[0m\u001b[32;49m25.1.1\u001b[0m\n",
      "\u001b[1m[\u001b[0m\u001b[34;49mnotice\u001b[0m\u001b[1;39;49m]\u001b[0m\u001b[39;49m To update, run: \u001b[0m\u001b[32;49mpip install --upgrade pip\u001b[0m\n"
     ]
    }
   ],
   "source": [
    "# Install required packages\n",
    "!pip install faiss-cpu numpy pandas scikit-learn sentence-transformers lightgbm matplotlib"
   ]
  },
  {
   "cell_type": "code",
   "execution_count": 1,
   "metadata": {},
   "outputs": [],
   "source": [
    "import json\n",
    "import numpy as np\n",
    "import pandas as pd\n",
    "import faiss\n",
    "import matplotlib.pyplot as plt\n",
    "from sentence_transformers import SentenceTransformer\n",
    "from sklearn.preprocessing import MinMaxScaler\n",
    "from sklearn.model_selection import train_test_split\n",
    "import lightgbm as lgb\n",
    "from sklearn.metrics import ndcg_score\n",
    "import gc  # Import garbage collector for memory management"
   ]
  },
  {
   "cell_type": "code",
   "execution_count": 2,
   "metadata": {},
   "outputs": [
    {
     "data": {
      "text/html": [
       "<div>\n",
       "<style scoped>\n",
       "    .dataframe tbody tr th:only-of-type {\n",
       "        vertical-align: middle;\n",
       "    }\n",
       "\n",
       "    .dataframe tbody tr th {\n",
       "        vertical-align: top;\n",
       "    }\n",
       "\n",
       "    .dataframe thead th {\n",
       "        text-align: right;\n",
       "    }\n",
       "</style>\n",
       "<table border=\"1\" class=\"dataframe\">\n",
       "  <thead>\n",
       "    <tr style=\"text-align: right;\">\n",
       "      <th></th>\n",
       "      <th>id</th>\n",
       "      <th>title</th>\n",
       "      <th>description</th>\n",
       "      <th>link</th>\n",
       "      <th>remixes</th>\n",
       "      <th>image_url</th>\n",
       "      <th>author_img</th>\n",
       "      <th>scraped_at</th>\n",
       "      <th>full_description</th>\n",
       "      <th>technologies</th>\n",
       "      <th>image_analysis</th>\n",
       "      <th>text_features</th>\n",
       "      <th>scraped_date</th>\n",
       "      <th>popularity_score</th>\n",
       "      <th>screenshot_description</th>\n",
       "    </tr>\n",
       "  </thead>\n",
       "  <tbody>\n",
       "    <tr>\n",
       "      <th>0</th>\n",
       "      <td>c97c0a8e-4d68-4bc4-9fe0-c26ee71c3856</td>\n",
       "      <td>fancy-saas-splash</td>\n",
       "      <td>A modern landing page template for SaaS produc...</td>\n",
       "      <td>https://lovable.dev/projects/c97c0a8e-4d68-4bc...</td>\n",
       "      <td>{'count': 35, 'text': '35 Remixes'}</td>\n",
       "      <td>https://storage.googleapis.com/gpt-engineer-sc...</td>\n",
       "      <td>https://lh3.googleusercontent.com/a/ACg8ocKpsv...</td>\n",
       "      <td>2025-05-21T18:49:16.306404</td>\n",
       "      <td></td>\n",
       "      <td>[]</td>\n",
       "      <td>{'dimensions': {'width': 1920, 'height': 1979,...</td>\n",
       "      <td>{'word_count': 3, 'sentiment': {'polarity': 0....</td>\n",
       "      <td>2025-05-21</td>\n",
       "      <td>175</td>\n",
       "      <td>NaN</td>\n",
       "    </tr>\n",
       "    <tr>\n",
       "      <th>1</th>\n",
       "      <td>65e44bd6-84d0-4f67-a532-c7f2a71f7d46</td>\n",
       "      <td>valk-life</td>\n",
       "      <td>A lifestyle application or website dedicated t...</td>\n",
       "      <td>https://lovable.dev/projects/65e44bd6-84d0-4f6...</td>\n",
       "      <td>{'count': 40, 'text': '40 Remixes'}</td>\n",
       "      <td>https://storage.googleapis.com/gpt-engineer-sc...</td>\n",
       "      <td>https://avatars.githubusercontent.com/u/441197...</td>\n",
       "      <td>2025-05-21T18:49:16.337169</td>\n",
       "      <td></td>\n",
       "      <td>[]</td>\n",
       "      <td>{'dimensions': {'width': 1920, 'height': 2935,...</td>\n",
       "      <td>{'word_count': 2, 'sentiment': {'polarity': 0....</td>\n",
       "      <td>2025-05-21</td>\n",
       "      <td>200</td>\n",
       "      <td>NaN</td>\n",
       "    </tr>\n",
       "    <tr>\n",
       "      <th>2</th>\n",
       "      <td>6fb25ca9-773a-4499-aa1a-2c5df274248d</td>\n",
       "      <td>monster-landing-magic</td>\n",
       "      <td>An eye-catching landing page template with bol...</td>\n",
       "      <td>https://lovable.dev/projects/6fb25ca9-773a-449...</td>\n",
       "      <td>{'count': 47, 'text': '47 Remixes'}</td>\n",
       "      <td>https://storage.googleapis.com/gpt-engineer-sc...</td>\n",
       "      <td>https://lh3.googleusercontent.com/a/ACg8ocKpsv...</td>\n",
       "      <td>2025-05-21T18:49:16.388370</td>\n",
       "      <td></td>\n",
       "      <td>[]</td>\n",
       "      <td>{'dimensions': {'width': 1920, 'height': 2655,...</td>\n",
       "      <td>{'word_count': 3, 'sentiment': {'polarity': 0....</td>\n",
       "      <td>2025-05-21</td>\n",
       "      <td>235</td>\n",
       "      <td>NaN</td>\n",
       "    </tr>\n",
       "    <tr>\n",
       "      <th>3</th>\n",
       "      <td>156c4586-27b3-4c80-992f-6996d77bfbc1</td>\n",
       "      <td>future-real-estate-site</td>\n",
       "      <td>A forward-thinking real estate platform showca...</td>\n",
       "      <td>https://lovable.dev/projects/156c4586-27b3-4c8...</td>\n",
       "      <td>{'count': 48, 'text': '48 Remixes'}</td>\n",
       "      <td>https://storage.googleapis.com/gpt-engineer-sc...</td>\n",
       "      <td>https://lh3.googleusercontent.com/a/ACg8ocKBv6...</td>\n",
       "      <td>2025-05-21T18:49:16.422113</td>\n",
       "      <td></td>\n",
       "      <td>[]</td>\n",
       "      <td>{'dimensions': {'width': 1920, 'height': 2126,...</td>\n",
       "      <td>{'word_count': 4, 'sentiment': {'polarity': 0....</td>\n",
       "      <td>2025-05-21</td>\n",
       "      <td>240</td>\n",
       "      <td>NaN</td>\n",
       "    </tr>\n",
       "    <tr>\n",
       "      <th>4</th>\n",
       "      <td>f60ff3fb-aac0-4b5b-a359-c84636b03332</td>\n",
       "      <td>turn-based-chess-duel</td>\n",
       "      <td>An interactive chess game application featurin...</td>\n",
       "      <td>https://lovable.dev/projects/f60ff3fb-aac0-4b5...</td>\n",
       "      <td>{'count': 52, 'text': '52 Remixes'}</td>\n",
       "      <td>https://storage.googleapis.com/gpt-engineer-sc...</td>\n",
       "      <td>https://lh3.googleusercontent.com/a/ACg8ocJgj-...</td>\n",
       "      <td>2025-05-21T18:49:16.456430</td>\n",
       "      <td></td>\n",
       "      <td>[]</td>\n",
       "      <td>{'dimensions': {'width': 1920, 'height': 1080,...</td>\n",
       "      <td>{'word_count': 4, 'sentiment': {'polarity': 0....</td>\n",
       "      <td>2025-05-21</td>\n",
       "      <td>260</td>\n",
       "      <td>NaN</td>\n",
       "    </tr>\n",
       "  </tbody>\n",
       "</table>\n",
       "</div>"
      ],
      "text/plain": [
       "                                     id                    title  \\\n",
       "0  c97c0a8e-4d68-4bc4-9fe0-c26ee71c3856        fancy-saas-splash   \n",
       "1  65e44bd6-84d0-4f67-a532-c7f2a71f7d46                valk-life   \n",
       "2  6fb25ca9-773a-4499-aa1a-2c5df274248d    monster-landing-magic   \n",
       "3  156c4586-27b3-4c80-992f-6996d77bfbc1  future-real-estate-site   \n",
       "4  f60ff3fb-aac0-4b5b-a359-c84636b03332    turn-based-chess-duel   \n",
       "\n",
       "                                         description  \\\n",
       "0  A modern landing page template for SaaS produc...   \n",
       "1  A lifestyle application or website dedicated t...   \n",
       "2  An eye-catching landing page template with bol...   \n",
       "3  A forward-thinking real estate platform showca...   \n",
       "4  An interactive chess game application featurin...   \n",
       "\n",
       "                                                link  \\\n",
       "0  https://lovable.dev/projects/c97c0a8e-4d68-4bc...   \n",
       "1  https://lovable.dev/projects/65e44bd6-84d0-4f6...   \n",
       "2  https://lovable.dev/projects/6fb25ca9-773a-449...   \n",
       "3  https://lovable.dev/projects/156c4586-27b3-4c8...   \n",
       "4  https://lovable.dev/projects/f60ff3fb-aac0-4b5...   \n",
       "\n",
       "                               remixes  \\\n",
       "0  {'count': 35, 'text': '35 Remixes'}   \n",
       "1  {'count': 40, 'text': '40 Remixes'}   \n",
       "2  {'count': 47, 'text': '47 Remixes'}   \n",
       "3  {'count': 48, 'text': '48 Remixes'}   \n",
       "4  {'count': 52, 'text': '52 Remixes'}   \n",
       "\n",
       "                                           image_url  \\\n",
       "0  https://storage.googleapis.com/gpt-engineer-sc...   \n",
       "1  https://storage.googleapis.com/gpt-engineer-sc...   \n",
       "2  https://storage.googleapis.com/gpt-engineer-sc...   \n",
       "3  https://storage.googleapis.com/gpt-engineer-sc...   \n",
       "4  https://storage.googleapis.com/gpt-engineer-sc...   \n",
       "\n",
       "                                          author_img  \\\n",
       "0  https://lh3.googleusercontent.com/a/ACg8ocKpsv...   \n",
       "1  https://avatars.githubusercontent.com/u/441197...   \n",
       "2  https://lh3.googleusercontent.com/a/ACg8ocKpsv...   \n",
       "3  https://lh3.googleusercontent.com/a/ACg8ocKBv6...   \n",
       "4  https://lh3.googleusercontent.com/a/ACg8ocJgj-...   \n",
       "\n",
       "                   scraped_at full_description technologies  \\\n",
       "0  2025-05-21T18:49:16.306404                            []   \n",
       "1  2025-05-21T18:49:16.337169                            []   \n",
       "2  2025-05-21T18:49:16.388370                            []   \n",
       "3  2025-05-21T18:49:16.422113                            []   \n",
       "4  2025-05-21T18:49:16.456430                            []   \n",
       "\n",
       "                                      image_analysis  \\\n",
       "0  {'dimensions': {'width': 1920, 'height': 1979,...   \n",
       "1  {'dimensions': {'width': 1920, 'height': 2935,...   \n",
       "2  {'dimensions': {'width': 1920, 'height': 2655,...   \n",
       "3  {'dimensions': {'width': 1920, 'height': 2126,...   \n",
       "4  {'dimensions': {'width': 1920, 'height': 1080,...   \n",
       "\n",
       "                                       text_features scraped_date  \\\n",
       "0  {'word_count': 3, 'sentiment': {'polarity': 0....   2025-05-21   \n",
       "1  {'word_count': 2, 'sentiment': {'polarity': 0....   2025-05-21   \n",
       "2  {'word_count': 3, 'sentiment': {'polarity': 0....   2025-05-21   \n",
       "3  {'word_count': 4, 'sentiment': {'polarity': 0....   2025-05-21   \n",
       "4  {'word_count': 4, 'sentiment': {'polarity': 0....   2025-05-21   \n",
       "\n",
       "   popularity_score screenshot_description  \n",
       "0               175                    NaN  \n",
       "1               200                    NaN  \n",
       "2               235                    NaN  \n",
       "3               240                    NaN  \n",
       "4               260                    NaN  "
      ]
     },
     "execution_count": 2,
     "metadata": {},
     "output_type": "execute_result"
    }
   ],
   "source": [
    "# Load the enriched projects data\n",
    "with open('enriched_data/enriched_projects.json', 'r') as file:\n",
    "    projects_data = json.load(file)\n",
    "\n",
    "# Convert to DataFrame for easier manipulation\n",
    "projects_df = pd.DataFrame(projects_data)\n",
    "\n",
    "# Display the first few projects\n",
    "projects_df.head()"
   ]
  },
  {
   "cell_type": "code",
   "execution_count": 3,
   "metadata": {},
   "outputs": [
    {
     "name": "stdout",
     "output_type": "stream",
     "text": [
      "Total number of projects: 32\n",
      "Columns available: ['id', 'title', 'description', 'link', 'remixes', 'image_url', 'author_img', 'scraped_at', 'full_description', 'technologies', 'image_analysis', 'text_features', 'scraped_date', 'popularity_score', 'screenshot_description']\n",
      "\n",
      "Missing values by column:\n",
      "id                         0\n",
      "title                      0\n",
      "description                0\n",
      "link                       0\n",
      "remixes                    0\n",
      "image_url                  0\n",
      "author_img                 0\n",
      "scraped_at                 0\n",
      "full_description          26\n",
      "technologies              26\n",
      "image_analysis             0\n",
      "text_features              0\n",
      "scraped_date               0\n",
      "popularity_score           0\n",
      "screenshot_description    31\n",
      "dtype: int64\n"
     ]
    }
   ],
   "source": [
    "# Examine the data\n",
    "print(f\"Total number of projects: {len(projects_df)}\")\n",
    "print(f\"Columns available: {projects_df.columns.tolist()}\")\n",
    "\n",
    "# Check for missing values\n",
    "print(\"\\nMissing values by column:\")\n",
    "print(projects_df.isnull().sum())"
   ]
  },
  {
   "cell_type": "markdown",
   "metadata": {},
   "source": [
    "## 2. Semantic Search with FAISS\n",
    "\n",
    "We'll create embeddings for each project based on its description and title, then build a FAISS index to enable fast similarity search."
   ]
  },
  {
   "cell_type": "code",
   "execution_count": 4,
   "metadata": {},
   "outputs": [],
   "source": [
    "# Load a pre-trained sentence transformer model\n",
    "model = SentenceTransformer('all-MiniLM-L6-v2')"
   ]
  },
  {
   "cell_type": "code",
   "execution_count": 5,
   "metadata": {},
   "outputs": [],
   "source": [
    "# Create a function to generate text for embedding\n",
    "def create_embedding_text(row):\n",
    "    text = f\"Title: {row['title']}. \"\n",
    "    text += f\"Description: {row['description']}. \"\n",
    "    \n",
    "    # Add project category if available\n",
    "    if 'text_features' in row and 'project_category' in row['text_features']:\n",
    "        text += f\"Category: {row['text_features']['project_category']}. \"\n",
    "    \n",
    "    # Add keywords if available\n",
    "    if 'text_features' in row and 'keywords' in row['text_features']:\n",
    "        text += f\"Keywords: {', '.join(row['text_features']['keywords'])}.\"\n",
    "    \n",
    "    return text"
   ]
  },
  {
   "cell_type": "code",
   "execution_count": 6,
   "metadata": {},
   "outputs": [
    {
     "name": "stdout",
     "output_type": "stream",
     "text": [
      "Title: fancy-saas-splash. Description: A modern landing page template for SaaS products featuring sleek design elements and engaging visual splash effects.. Category: landing_page. Keywords: fancy, saas, splash.\n"
     ]
    }
   ],
   "source": [
    "# Generate text for each project\n",
    "projects_df['embedding_text'] = projects_df.apply(create_embedding_text, axis=1)\n",
    "\n",
    "# Preview the text we'll use for embeddings\n",
    "print(projects_df['embedding_text'].iloc[0])"
   ]
  },
  {
   "cell_type": "code",
   "execution_count": 7,
   "metadata": {},
   "outputs": [
    {
     "data": {
      "application/vnd.jupyter.widget-view+json": {
       "model_id": "7c3f7ba7fd26475cb9160326a20e8abe",
       "version_major": 2,
       "version_minor": 0
      },
      "text/plain": [
       "Batches:   0%|          | 0/1 [00:00<?, ?it/s]"
      ]
     },
     "metadata": {},
     "output_type": "display_data"
    },
    {
     "name": "stdout",
     "output_type": "stream",
     "text": [
      "Embedding shape: (32, 384)\n",
      "Sample embedding (first 5 dimensions): [-0.0309571   0.01860341  0.04708434  0.00311612  0.07348949]\n"
     ]
    }
   ],
   "source": [
    "# Generate embeddings for all projects\n",
    "project_embeddings = model.encode(projects_df['embedding_text'].tolist(), show_progress_bar=True)\n",
    "\n",
    "# Display shape and sample of embeddings\n",
    "print(f\"Embedding shape: {project_embeddings.shape}\")\n",
    "print(f\"Sample embedding (first 5 dimensions): {project_embeddings[0][:5]}\")"
   ]
  },
  {
   "cell_type": "code",
   "execution_count": 8,
   "metadata": {},
   "outputs": [
    {
     "data": {
      "text/plain": [
       "104"
      ]
     },
     "execution_count": 8,
     "metadata": {},
     "output_type": "execute_result"
    }
   ],
   "source": [
    "# Force garbage collection to free memory\n",
    "gc.collect()"
   ]
  },
  {
   "cell_type": "code",
   "execution_count": 9,
   "metadata": {},
   "outputs": [
    {
     "name": "stdout",
     "output_type": "stream",
     "text": [
      "Number of vectors in the index: 32\n"
     ]
    }
   ],
   "source": [
    "# Set up FAISS index\n",
    "dimension = project_embeddings.shape[1]\n",
    "index = faiss.IndexFlatL2(dimension)  # Using L2 distance for similarity\n",
    "\n",
    "# Add the project embeddings to the index\n",
    "index.add(project_embeddings)\n",
    "\n",
    "# Verify the index size\n",
    "print(f\"Number of vectors in the index: {index.ntotal}\")"
   ]
  },
  {
   "cell_type": "code",
   "execution_count": 10,
   "metadata": {},
   "outputs": [],
   "source": [
    "# Function to get semantically similar projects\n",
    "def get_similar_projects(query_text, top_k=5):\n",
    "    # Convert query to embedding\n",
    "    query_embedding = model.encode([query_text])\n",
    "    \n",
    "    # Search for similar projects in the FAISS index\n",
    "    distances, indices = index.search(query_embedding, top_k)\n",
    "    \n",
    "    # Get the similar projects\n",
    "    similar_projects = projects_df.iloc[indices[0]]\n",
    "    \n",
    "    # Add distance information\n",
    "    similar_projects = similar_projects.copy()\n",
    "    similar_projects['distance'] = distances[0]\n",
    "    \n",
    "    return similar_projects[['id', 'title', 'description', 'distance', 'remixes']]"
   ]
  },
  {
   "cell_type": "code",
   "execution_count": 11,
   "metadata": {},
   "outputs": [
    {
     "name": "stdout",
     "output_type": "stream",
     "text": [
      "Query: 'I need a landing page for my SaaS product'\n",
      "\n"
     ]
    },
    {
     "data": {
      "text/html": [
       "<div>\n",
       "<style scoped>\n",
       "    .dataframe tbody tr th:only-of-type {\n",
       "        vertical-align: middle;\n",
       "    }\n",
       "\n",
       "    .dataframe tbody tr th {\n",
       "        vertical-align: top;\n",
       "    }\n",
       "\n",
       "    .dataframe thead th {\n",
       "        text-align: right;\n",
       "    }\n",
       "</style>\n",
       "<table border=\"1\" class=\"dataframe\">\n",
       "  <thead>\n",
       "    <tr style=\"text-align: right;\">\n",
       "      <th></th>\n",
       "      <th>id</th>\n",
       "      <th>title</th>\n",
       "      <th>description</th>\n",
       "      <th>distance</th>\n",
       "      <th>remixes</th>\n",
       "    </tr>\n",
       "  </thead>\n",
       "  <tbody>\n",
       "    <tr>\n",
       "      <th>0</th>\n",
       "      <td>c97c0a8e-4d68-4bc4-9fe0-c26ee71c3856</td>\n",
       "      <td>fancy-saas-splash</td>\n",
       "      <td>A modern landing page template for SaaS produc...</td>\n",
       "      <td>0.907642</td>\n",
       "      <td>{'count': 35, 'text': '35 Remixes'}</td>\n",
       "    </tr>\n",
       "    <tr>\n",
       "      <th>2</th>\n",
       "      <td>6fb25ca9-773a-4499-aa1a-2c5df274248d</td>\n",
       "      <td>monster-landing-magic</td>\n",
       "      <td>An eye-catching landing page template with bol...</td>\n",
       "      <td>1.123671</td>\n",
       "      <td>{'count': 47, 'text': '47 Remixes'}</td>\n",
       "    </tr>\n",
       "    <tr>\n",
       "      <th>19</th>\n",
       "      <td>84322c50-98b7-4990-ba4e-2545accf5d91</td>\n",
       "      <td>landing-simulator-sorcery</td>\n",
       "      <td>A landing page creation tool with magical drag...</td>\n",
       "      <td>1.167778</td>\n",
       "      <td>{'count': 1115, 'text': '1115 Remixes'}</td>\n",
       "    </tr>\n",
       "    <tr>\n",
       "      <th>27</th>\n",
       "      <td>32740053-d4a5-474d-90a4-a52ce5eabadc</td>\n",
       "      <td>lovable-product-grove</td>\n",
       "      <td>An e-commerce platform showcasing a curated co...</td>\n",
       "      <td>1.370921</td>\n",
       "      <td>{'count': 1, 'text': '1 Remix'}</td>\n",
       "    </tr>\n",
       "    <tr>\n",
       "      <th>9</th>\n",
       "      <td>721b7097-37cd-4dc4-8946-0910b3ea8bc7</td>\n",
       "      <td>agri-dom</td>\n",
       "      <td>An agricultural domain management system for f...</td>\n",
       "      <td>1.438300</td>\n",
       "      <td>{'count': 1996, 'text': '1996 Remixes'}</td>\n",
       "    </tr>\n",
       "  </tbody>\n",
       "</table>\n",
       "</div>"
      ],
      "text/plain": [
       "                                      id                      title  \\\n",
       "0   c97c0a8e-4d68-4bc4-9fe0-c26ee71c3856          fancy-saas-splash   \n",
       "2   6fb25ca9-773a-4499-aa1a-2c5df274248d      monster-landing-magic   \n",
       "19  84322c50-98b7-4990-ba4e-2545accf5d91  landing-simulator-sorcery   \n",
       "27  32740053-d4a5-474d-90a4-a52ce5eabadc      lovable-product-grove   \n",
       "9   721b7097-37cd-4dc4-8946-0910b3ea8bc7                   agri-dom   \n",
       "\n",
       "                                          description  distance  \\\n",
       "0   A modern landing page template for SaaS produc...  0.907642   \n",
       "2   An eye-catching landing page template with bol...  1.123671   \n",
       "19  A landing page creation tool with magical drag...  1.167778   \n",
       "27  An e-commerce platform showcasing a curated co...  1.370921   \n",
       "9   An agricultural domain management system for f...  1.438300   \n",
       "\n",
       "                                    remixes  \n",
       "0       {'count': 35, 'text': '35 Remixes'}  \n",
       "2       {'count': 47, 'text': '47 Remixes'}  \n",
       "19  {'count': 1115, 'text': '1115 Remixes'}  \n",
       "27          {'count': 1, 'text': '1 Remix'}  \n",
       "9   {'count': 1996, 'text': '1996 Remixes'}  "
      ]
     },
     "execution_count": 11,
     "metadata": {},
     "output_type": "execute_result"
    }
   ],
   "source": [
    "# Test the semantic search with a sample query\n",
    "query = \"I need a landing page for my SaaS product\"\n",
    "similar_projects = get_similar_projects(query, top_k=5)\n",
    "print(f\"Query: '{query}'\\n\")\n",
    "similar_projects"
   ]
  },
  {
   "cell_type": "markdown",
   "metadata": {},
   "source": [
    "## 3. Machine Learning Ranking Model\n",
    "\n",
    "Now let's create a model that can re-rank the search results based on engagement metrics like remix count and popularity scores."
   ]
  },
  {
   "cell_type": "code",
   "execution_count": 12,
   "metadata": {},
   "outputs": [],
   "source": [
    "# Prepare features for ranking model\n",
    "def extract_ranking_features(df):\n",
    "    features = pd.DataFrame()\n",
    "    \n",
    "    # Extract engagement metrics\n",
    "    features['remix_count'] = df['remixes'].apply(lambda x: x['count'] if isinstance(x, dict) and 'count' in x else 0)\n",
    "    features['popularity_score'] = df['popularity_score']\n",
    "    \n",
    "    # Normalize using Min-Max scaling\n",
    "    scaler = MinMaxScaler()\n",
    "    features[['remix_count_norm', 'popularity_score_norm']] = scaler.fit_transform(features[['remix_count', 'popularity_score']])\n",
    "    \n",
    "    return features"
   ]
  },
  {
   "cell_type": "code",
   "execution_count": 13,
   "metadata": {},
   "outputs": [
    {
     "data": {
      "text/html": [
       "<div>\n",
       "<style scoped>\n",
       "    .dataframe tbody tr th:only-of-type {\n",
       "        vertical-align: middle;\n",
       "    }\n",
       "\n",
       "    .dataframe tbody tr th {\n",
       "        vertical-align: top;\n",
       "    }\n",
       "\n",
       "    .dataframe thead th {\n",
       "        text-align: right;\n",
       "    }\n",
       "</style>\n",
       "<table border=\"1\" class=\"dataframe\">\n",
       "  <thead>\n",
       "    <tr style=\"text-align: right;\">\n",
       "      <th></th>\n",
       "      <th>remix_count</th>\n",
       "      <th>popularity_score</th>\n",
       "      <th>remix_count_norm</th>\n",
       "      <th>popularity_score_norm</th>\n",
       "      <th>semantic_distance</th>\n",
       "    </tr>\n",
       "  </thead>\n",
       "  <tbody>\n",
       "    <tr>\n",
       "      <th>count</th>\n",
       "      <td>32.000000</td>\n",
       "      <td>32.000000</td>\n",
       "      <td>32.000000</td>\n",
       "      <td>32.000000</td>\n",
       "      <td>32.0</td>\n",
       "    </tr>\n",
       "    <tr>\n",
       "      <th>mean</th>\n",
       "      <td>453.750000</td>\n",
       "      <td>2268.750000</td>\n",
       "      <td>0.192414</td>\n",
       "      <td>0.192414</td>\n",
       "      <td>0.0</td>\n",
       "    </tr>\n",
       "    <tr>\n",
       "      <th>std</th>\n",
       "      <td>658.601255</td>\n",
       "      <td>3293.006274</td>\n",
       "      <td>0.279899</td>\n",
       "      <td>0.279899</td>\n",
       "      <td>0.0</td>\n",
       "    </tr>\n",
       "    <tr>\n",
       "      <th>min</th>\n",
       "      <td>1.000000</td>\n",
       "      <td>5.000000</td>\n",
       "      <td>0.000000</td>\n",
       "      <td>0.000000</td>\n",
       "      <td>0.0</td>\n",
       "    </tr>\n",
       "    <tr>\n",
       "      <th>25%</th>\n",
       "      <td>22.500000</td>\n",
       "      <td>112.500000</td>\n",
       "      <td>0.009137</td>\n",
       "      <td>0.009137</td>\n",
       "      <td>0.0</td>\n",
       "    </tr>\n",
       "    <tr>\n",
       "      <th>50%</th>\n",
       "      <td>69.500000</td>\n",
       "      <td>347.500000</td>\n",
       "      <td>0.029112</td>\n",
       "      <td>0.029112</td>\n",
       "      <td>0.0</td>\n",
       "    </tr>\n",
       "    <tr>\n",
       "      <th>75%</th>\n",
       "      <td>710.750000</td>\n",
       "      <td>3553.750000</td>\n",
       "      <td>0.301636</td>\n",
       "      <td>0.301636</td>\n",
       "      <td>0.0</td>\n",
       "    </tr>\n",
       "    <tr>\n",
       "      <th>max</th>\n",
       "      <td>2354.000000</td>\n",
       "      <td>11770.000000</td>\n",
       "      <td>1.000000</td>\n",
       "      <td>1.000000</td>\n",
       "      <td>0.0</td>\n",
       "    </tr>\n",
       "  </tbody>\n",
       "</table>\n",
       "</div>"
      ],
      "text/plain": [
       "       remix_count  popularity_score  remix_count_norm  popularity_score_norm  \\\n",
       "count    32.000000         32.000000         32.000000              32.000000   \n",
       "mean    453.750000       2268.750000          0.192414               0.192414   \n",
       "std     658.601255       3293.006274          0.279899               0.279899   \n",
       "min       1.000000          5.000000          0.000000               0.000000   \n",
       "25%      22.500000        112.500000          0.009137               0.009137   \n",
       "50%      69.500000        347.500000          0.029112               0.029112   \n",
       "75%     710.750000       3553.750000          0.301636               0.301636   \n",
       "max    2354.000000      11770.000000          1.000000               1.000000   \n",
       "\n",
       "       semantic_distance  \n",
       "count               32.0  \n",
       "mean                 0.0  \n",
       "std                  0.0  \n",
       "min                  0.0  \n",
       "25%                  0.0  \n",
       "50%                  0.0  \n",
       "75%                  0.0  \n",
       "max                  0.0  "
      ]
     },
     "execution_count": 13,
     "metadata": {},
     "output_type": "execute_result"
    }
   ],
   "source": [
    "# Extract features for all projects\n",
    "ranking_features = extract_ranking_features(projects_df)\n",
    "\n",
    "# Add semantic_distance as a feature for the ranking model\n",
    "# Note: In a real-world scenario, this would be filled in during search time\n",
    "ranking_features['semantic_distance'] = 0.0  \n",
    "\n",
    "# Show feature statistics\n",
    "ranking_features.describe()"
   ]
  },
  {
   "cell_type": "code",
   "execution_count": 14,
   "metadata": {},
   "outputs": [
    {
     "data": {
      "image/png": "[encoded data removed]",
      "text/plain": [
       "<Figure size 1000x600 with 1 Axes>"
      ]
     },
     "metadata": {},
     "output_type": "display_data"
    }
   ],
   "source": [
    "# Create a synthetic dataset for training the ranking model\n",
    "# In a real application, you would use real user interactions/click data\n",
    "\n",
    "# Let's create a synthetic relevance score based on remix count and popularity\n",
    "ranking_features['relevance'] = (ranking_features['remix_count_norm'] * 0.7 + \n",
    "                               ranking_features['popularity_score_norm'] * 0.3)\n",
    "\n",
    "# Add some noise to make it more realistic\n",
    "np.random.seed(42)\n",
    "ranking_features['relevance'] = ranking_features['relevance'] + np.random.normal(0, 0.05, len(ranking_features))\n",
    "\n",
    "# Ensure relevance is between 0 and 1\n",
    "ranking_features['relevance'] = np.clip(ranking_features['relevance'], 0, 1)\n",
    "\n",
    "# Plot the distribution of the relevance scores\n",
    "plt.figure(figsize=(10, 6))\n",
    "plt.hist(ranking_features['relevance'], bins=20)\n",
    "plt.title('Distribution of Synthetic Relevance Scores')\n",
    "plt.xlabel('Relevance Score')\n",
    "plt.ylabel('Count')\n",
    "plt.show()"
   ]
  },
  {
   "cell_type": "code",
   "execution_count": 15,
   "metadata": {},
   "outputs": [
    {
     "data": {
      "text/plain": [
       "4509"
      ]
     },
     "execution_count": 15,
     "metadata": {},
     "output_type": "execute_result"
    }
   ],
   "source": [
    "# Free memory after model training\n",
    "gc.collect()"
   ]
  },
  {
   "cell_type": "code",
   "execution_count": 16,
   "metadata": {},
   "outputs": [],
   "source": [
    "# Prepare data for the ranking model\n",
    "X = ranking_features[['remix_count_norm', 'popularity_score_norm', 'semantic_distance']]\n",
    "y = ranking_features['relevance']\n",
    "\n",
    "# Split into training and test sets\n",
    "X_train, X_test, y_train, y_test = train_test_split(X, y, test_size=0.2, random_state=42)"
   ]
  },
  {
   "cell_type": "code",
   "execution_count": null,
   "metadata": {},
   "outputs": [],
   "source": [
    "# Train a LightGBM ranking model\n",
    "params = {\n",
    "    'objective': 'regression',\n",
    "    'metric': 'mae',\n",
    "    'boosting_type': 'gbdt',\n",
    "    'learning_rate': 0.1,\n",
    "    'num_leaves': 7,  # Reduced from 31 for small dataset\n",
    "    'min_data_in_leaf': 1,  # Reduced from 20 for small dataset\n",
    "    'min_sum_hessian_in_leaf': 1e-3,  # Added for small dataset\n",
    "    'num_iterations': 30  # Reduced iteration count\n",
    "}\n",
    "\n",
    "train_data = lgb.Dataset(X_train, label=y_train)\n",
    "valid_data = lgb.Dataset(X_test, label=y_test, reference=train_data)\n",
    "\n",
    "model = lgb.train(\n",
    "    params,\n",
    "    train_data,\n",
    "    valid_sets=[valid_data]\n",
    ")"
   ]
  },
  {
   "cell_type": "code",
   "execution_count": null,
   "metadata": {},
   "outputs": [],
   "source": [
    "# Free memory after model training\n",
    "gc.collect()"
   ]
  },
  {
   "cell_type": "code",
   "execution_count": 19,
   "metadata": {},
   "outputs": [
    {
     "data": {
      "image/png": "[encoded data removed]",
      "text/plain": [
       "<Figure size 1000x600 with 1 Axes>"
      ]
     },
     "metadata": {},
     "output_type": "display_data"
    }
   ],
   "source": [
    "# Evaluate the model on test data\n",
    "y_pred = model.predict(X_test)\n",
    "\n",
    "# Plot predictions vs actual\n",
    "plt.figure(figsize=(10, 6))\n",
    "plt.scatter(y_test, y_pred, alpha=0.5)\n",
    "plt.plot([0, 1], [0, 1], 'r--')\n",
    "plt.title('Predicted vs Actual Relevance Scores')\n",
    "plt.xlabel('Actual Relevance')\n",
    "plt.ylabel('Predicted Relevance')\n",
    "plt.xlim([0, 1])\n",
    "plt.ylim([0, 1])\n",
    "plt.show()"
   ]
  },
  {
   "cell_type": "code",
   "execution_count": null,
   "metadata": {},
   "outputs": [],
   "source": [
    "# Feature importance\n",
    "feature_importance = pd.DataFrame({\n",
    "    'Feature': X.columns,\n",
    "    'Importance': model.feature_importance()\n",
    "})\n",
    "feature_importance = feature_importance.sort_values('Importance', ascending=False)\n",
    "\n",
    "plt.figure(figsize=(10, 6))\n",
    "plt.barh(feature_importance['Feature'], feature_importance['Importance'])\n",
    "plt.title('Feature Importance')\n",
    "plt.xlabel('Importance')\n",
    "plt.ylabel('Feature')\n",
    "plt.tight_layout()\n",
    "plt.show()"
   ]
  },
  {
   "cell_type": "markdown",
   "metadata": {},
   "source": [
    "## 4. Combined Recommendation Function\n",
    "\n",
    "Now let's create a function that combines semantic search with ranking."
   ]
  },
  {
   "cell_type": "code",
   "execution_count": null,
   "metadata": {},
   "outputs": [],
   "source": [
    "def recommend_projects(query, k=5, initial_candidates=15):\n",
    "    # Get more candidates than we need for re-ranking\n",
    "    candidates = get_similar_projects(query, top_k=initial_candidates)\n",
    "    \n",
    "    # Extract features for ranking\n",
    "    features = extract_ranking_features(candidates)\n",
    "    \n",
    "    # Add semantic distance as a feature\n",
    "    features['semantic_distance'] = candidates['distance'].values\n",
    "    # Normalize semantic distance (lower is better, so we invert it after scaling)\n",
    "    max_dist = features['semantic_distance'].max()\n",
    "    min_dist = features['semantic_distance'].min()\n",
    "    if max_dist > min_dist:\n",
    "        features['semantic_distance'] = 1 - ((features['semantic_distance'] - min_dist) / (max_dist - min_dist))\n",
    "    else:\n",
    "        features['semantic_distance'] = 1.0\n",
    "    \n",
    "    # Prepare features for the ranking model\n",
    "    X_rank = features[['remix_count_norm', 'popularity_score_norm', 'semantic_distance']]\n",
    "    \n",
    "    # Predict relevance scores\n",
    "    relevance_scores = model.predict(X_rank)\n",
    "    \n",
    "    # Add relevance scores to the results\n",
    "    candidates['relevance_score'] = relevance_scores\n",
    "    \n",
    "    # Sort by relevance score\n",
    "    ranked_results = candidates.sort_values(by='relevance_score', ascending=False)\n",
    "    \n",
    "    # Return top k results\n",
    "    return ranked_results.head(k)[['id', 'title', 'description', 'distance', 'remixes', 'relevance_score']]"
   ]
  },
  {
   "cell_type": "code",
   "execution_count": null,
   "metadata": {},
   "outputs": [],
   "source": [
    "# Test the combined recommendation function\n",
    "query = \"I need a landing page for my SaaS product\"\n",
    "recommended_projects = recommend_projects(query)\n",
    "print(f\"Query: '{query}'\\n\")\n",
    "recommended_projects"
   ]
  },
  {
   "cell_type": "markdown",
   "metadata": {},
   "source": [
    "## 5. Cold Start Recommendation\n",
    "\n",
    "Now let's implement a strategy to recommend new projects that have few or no remixes but might be a good fit."
   ]
  },
  {
   "cell_type": "code",
   "execution_count": null,
   "metadata": {},
   "outputs": [],
   "source": [
    "# Define new projects as those with less than 10 remixes\n",
    "new_projects = projects_df[projects_df['remixes'].apply(lambda x: x['count'] if isinstance(x, dict) and 'count' in x else 0) < 10]\n",
    "print(f\"Number of new projects: {len(new_projects)}\")"
   ]
  },
  {
   "cell_type": "code",
   "execution_count": null,
   "metadata": {},
   "outputs": [],
   "source": [
    "def recommend_new_projects(query, k=3, diversity_weight=0.2):\n",
    "    # Filter to only include new projects\n",
    "    new_project_embeddings = project_embeddings[projects_df['remixes'].apply(\n",
    "        lambda x: x['count'] if isinstance(x, dict) and 'count' in x else 0) < 10]\n",
    "    \n",
    "    # Get indices of new projects\n",
    "    new_project_indices = projects_df.index[projects_df['remixes'].apply(\n",
    "        lambda x: x['count'] if isinstance(x, dict) and 'count' in x else 0) < 10].tolist()\n",
    "    \n",
    "    if len(new_project_indices) == 0:\n",
    "        return pd.DataFrame(columns=['id', 'title', 'description', 'distance', 'remixes'])\n",
    "    \n",
    "    # Create a FAISS index for new projects only\n",
    "    dimension = new_project_embeddings.shape[1]\n",
    "    new_projects_index = faiss.IndexFlatL2(dimension)\n",
    "    new_projects_index.add(new_project_embeddings)\n",
    "    \n",
    "    # Convert query to embedding\n",
    "    query_embedding = model.encode([query])\n",
    "    \n",
    "    # Search for similar new projects\n",
    "    distances, local_indices = new_projects_index.search(query_embedding, k*2)  # Get more candidates\n",
    "    \n",
    "    # Convert local indices to global indices\n",
    "    global_indices = [new_project_indices[i] for i in local_indices[0]]\n",
    "    \n",
    "    # Get the candidate projects\n",
    "    candidates = projects_df.iloc[global_indices].copy()\n",
    "    candidates['distance'] = distances[0]\n",
    "    \n",
    "    # Calculate diversity score based on uniqueness of project categories\n",
    "    if len(candidates) > 0 and 'text_features' in candidates.columns:\n",
    "        # Extract categories if they exist\n",
    "        categories = candidates['text_features'].apply(\n",
    "            lambda x: x.get('project_category', 'unknown') if isinstance(x, dict) else 'unknown')\n",
    "        \n",
    "        # Count occurrences of each category\n",
    "        category_counts = categories.value_counts()\n",
    "        \n",
    "        # Calculate diversity score (lower count = more unique = higher score)\n",
    "        candidates['diversity_score'] = categories.apply(lambda x: 1.0/category_counts[x])\n",
    "    else:\n",
    "        candidates['diversity_score'] = 1.0\n",
    "    \n",
    "    # Normalize distances (lower is better, so we invert it after scaling)\n",
    "    max_dist = candidates['distance'].max()\n",
    "    min_dist = candidates['distance'].min()\n",
    "    if max_dist > min_dist:\n",
    "        candidates['distance_norm'] = 1 - ((candidates['distance'] - min_dist) / (max_dist - min_dist))\n",
    "    else:\n",
    "        candidates['distance_norm'] = 1.0\n",
    "    \n",
    "    # Combined score: relevance and diversity\n",
    "    candidates['combined_score'] = (1 - diversity_weight) * candidates['distance_norm'] + \\\n",
    "                                   diversity_weight * candidates['diversity_score']\n",
    "    \n",
    "    # Sort by combined score\n",
    "    candidates = candidates.sort_values('combined_score', ascending=False)\n",
    "    \n",
    "    return candidates.head(k)[['id', 'title', 'description', 'distance', 'remixes', 'combined_score']]"
   ]
  },
  {
   "cell_type": "code",
   "execution_count": null,
   "metadata": {},
   "outputs": [],
   "source": [
    "# Test the new project recommendation function\n",
    "query = \"I need a landing page for my SaaS product\"\n",
    "new_project_recommendations = recommend_new_projects(query)\n",
    "print(f\"Query: '{query}'\\n\")\n",
    "new_project_recommendations"
   ]
  },
  {
   "cell_type": "markdown",
   "metadata": {},
   "source": [
    "## 6. Complete Recommendation Pipeline\n",
    "\n",
    "Now let's combine everything into a complete recommendation pipeline."
   ]
  },
  {
   "cell_type": "code",
   "execution_count": null,
   "metadata": {},
   "outputs": [],
   "source": [
    "def get_project_recommendations(query, established_count=5, new_count=2):\n",
    "    print(f\"\\n===== Recommendations for: '{query}' =====\\n\")\n",
    "    \n",
    "    # Get recommendations for established projects\n",
    "    print(f\"Top {established_count} established projects:\")\n",
    "    established_recommendations = recommend_projects(query, k=established_count)\n",
    "    display(established_recommendations)\n",
    "    \n",
    "    # Get recommendations for new projects\n",
    "    print(f\"\\nTop {new_count} promising new projects:\")\n",
    "    new_recommendations = recommend_new_projects(query, k=new_count)\n",
    "    display(new_recommendations)"
   ]
  },
  {
   "cell_type": "code",
   "execution_count": null,
   "metadata": {},
   "outputs": [],
   "source": [
    "# Test with different queries\n",
    "queries = [\n",
    "    \"I need a landing page for my SaaS product\",\n",
    "    \"Looking for a tool to visualize music\",\n",
    "    \"I want to build a chess game\",\n",
    "    \"Need a dashboard for food tracking\",\n",
    "    \"AI tool that can adapt to my thinking\"\n",
    "]\n",
    "\n",
    "for query in queries:\n",
    "    get_project_recommendations(query)"
   ]
  },
  {
   "cell_type": "code",
   "execution_count": null,
   "metadata": {},
   "outputs": [],
   "source": [
    "# Free memory by garbage collecting\n",
    "print(\"Cleaning up memory...\")\n",
    "gc.collect()\n",
    "print(\"Done.\")"
   ]
  },
  {
   "cell_type": "markdown",
   "metadata": {},
   "source": [
    "## 7. Save the Models\n",
    "\n",
    "Let's save our models for future use."
   ]
  },
  {
   "cell_type": "code",
   "execution_count": null,
   "metadata": {},
   "outputs": [],
   "source": [
    "# Make sure the models directory exists\n",
    "if not os.path.exists('models'):\n",
    "    os.makedirs('models')\n",
    "\n",
    "# Save FAISS index\n",
    "faiss.write_index(index, 'models/project_search_index.faiss')\n",
    "\n",
    "# Save the LightGBM ranking model\n",
    "model.save_model('models/ranking_model.txt')\n",
    "\n",
    "# Save project information and embeddings for future use\n",
    "np.save('models/project_embeddings.npy', project_embeddings)\n",
    "projects_df[['id', 'title', 'description', 'remixes', 'popularity_score']].to_csv('models/project_metadata.csv', index=False)"
   ]
  },
  {
   "cell_type": "markdown",
   "metadata": {},
   "source": [
    "## 8. Conclusion\n",
    "\n",
    "In this notebook, we've created a complete recommendation system that:\n",
    "\n",
    "1. Uses semantic search to find projects similar to the user's query\n",
    "2. Re-ranks the results based on engagement metrics using a machine learning model\n",
    "3. Recommends promising new projects with few remixes\n",
    "\n",
    "This system combines content-based and popularity-based recommendation approaches to deliver the most relevant projects to users while still surfacing promising new content. It could be improved with:\n",
    "\n",
    "- Real user feedback/click data for training the ranking model\n",
    "- Personalization based on user preferences and history\n",
    "- A/B testing different ranking strategies\n",
    "- Periodic retraining of models as new projects are added and engagement patterns change"
   ]
  }
 ],
 "metadata": {
  "kernelspec": {
   "display_name": "Python 3 (ipykernel)",
   "language": "python",
   "name": "python3"
  },
  "language_info": {
   "codemirror_mode": {
    "name": "ipython",
    "version": 3
   },
   "file_extension": ".py",
   "mimetype": "text/x-python",
   "name": "python",
   "nbconvert_exporter": "python",
   "pygments_lexer": "ipython3",
   "version": "3.9.17"
  }
 },
 "nbformat": 4,
 "nbformat_minor": 4
}
